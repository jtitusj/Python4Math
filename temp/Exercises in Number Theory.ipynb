{
 "cells": [
  {
   "cell_type": "code",
   "execution_count": 82,
   "metadata": {},
   "outputs": [],
   "source": [
    "# option 1\n",
    "import math\n",
    "\n",
    "# option 2\n",
    "from math import sqrt\n",
    "\n",
    "# alias numpy as np\n",
    "import numpy as np"
   ]
  },
  {
   "cell_type": "markdown",
   "metadata": {},
   "source": [
    "### Exercise: Multiples of 3 and 5\n",
    "<div class=\"alert alert-success\">\n",
    "If we list all the natural numbers below 10 that are multiples of 3 or 5, we get 3, 5, 6 and 9. The sum of these multiples is 23.\n",
    "\n",
    "Find the sum of all the multiples of 3 or 5 below 1000.\n",
    "</div>\n",
    "\n",
    "<div class=\"alert alert-info\">\n",
    "Hint: If you are using list or set comprehensions to solve this, you can get the sum by doing sum(list_of_numbers)\n",
    "</div>\n",
    "\n",
    "This problem is the first programming problem in [projecteuler.net](https://projecteuler.net/problem=1). You can further improve both you programming and mathematical skills by answering programming problems in this website."
   ]
  },
  {
   "cell_type": "code",
   "execution_count": 13,
   "metadata": {},
   "outputs": [
    {
     "name": "stdout",
     "output_type": "stream",
     "text": [
      "The slowest run took 5.55 times longer than the fastest. This could mean that an intermediate result is being cached.\n",
      "215 µs ± 200 µs per loop (mean ± std. dev. of 7 runs, 1000 loops each)\n"
     ]
    }
   ],
   "source": [
    "%%timeit\n",
    "sum([k for k in range(1, 1000) if (k%3==0) or (k%5==0)])"
   ]
  },
  {
   "cell_type": "code",
   "execution_count": 14,
   "metadata": {},
   "outputs": [
    {
     "name": "stdout",
     "output_type": "stream",
     "text": [
      "182 µs ± 74.2 µs per loop (mean ± std. dev. of 7 runs, 1000 loops each)\n"
     ]
    }
   ],
   "source": [
    "%%timeit\n",
    "sum_ = 0\n",
    "for k in range(1, 1000):\n",
    "    if (k%3==0) or (k%5==0):\n",
    "        sum_ += k\n",
    "sum_"
   ]
  },
  {
   "cell_type": "code",
   "execution_count": 15,
   "metadata": {},
   "outputs": [
    {
     "name": "stdout",
     "output_type": "stream",
     "text": [
      "59.8 µs ± 3.38 µs per loop (mean ± std. dev. of 7 runs, 10000 loops each)\n"
     ]
    }
   ],
   "source": [
    "%%timeit\n",
    "threes = {3*k for k in range(1, 334)}\n",
    "fives = {5*k for k in range(1, 200)}\n",
    "\n",
    "final_set = threes.union(fives)\n",
    "sum(final_set)"
   ]
  },
  {
   "cell_type": "markdown",
   "metadata": {},
   "source": [
    "### Exercise: Fibonacci Numbers\n",
    "<div class=\"alert alert-success\">\n",
    "Create a function with parameter n and returns a list of all fibonacci numbers less than or equal to n.\n",
    "</div>"
   ]
  },
  {
   "cell_type": "code",
   "execution_count": 29,
   "metadata": {},
   "outputs": [
    {
     "data": {
      "text/plain": [
       "[1, 1, 2, 3, 5, 8]"
      ]
     },
     "execution_count": 29,
     "metadata": {},
     "output_type": "execute_result"
    }
   ],
   "source": [
    "def fibonacci_upto_n(n):\n",
    "    fib_list = [1, 1]\n",
    "    while fib_list[-2] + fib_list[-1] <= n:\n",
    "        new_fib = fib_list[-2] + fib_list[-1]\n",
    "        fib_list.append(new_fib)\n",
    "    return fib_list\n",
    "\n",
    "fibonacci_upto_n(10)"
   ]
  },
  {
   "cell_type": "code",
   "execution_count": 30,
   "metadata": {},
   "outputs": [
    {
     "data": {
      "text/plain": [
       "[1, 1, 2, 3, 5, 8, 13, 21, 34, 55, 89]"
      ]
     },
     "execution_count": 30,
     "metadata": {},
     "output_type": "execute_result"
    }
   ],
   "source": [
    "fibonacci_upto_n(100)"
   ]
  },
  {
   "cell_type": "markdown",
   "metadata": {},
   "source": [
    "### Exercise: Quotient Remainder Theorem\n",
    "<div class=\"alert alert-success\">\n",
    "Create a function with parameters A and B and returns two values Q and R such that A = B*Q + R. \n",
    "    \n",
    "Note that as per the Quotient Remainder Theorem, Q and R are unique.\n",
    "</div>"
   ]
  },
  {
   "cell_type": "code",
   "execution_count": 34,
   "metadata": {},
   "outputs": [
    {
     "data": {
      "text/plain": [
       "(3, 1)"
      ]
     },
     "execution_count": 34,
     "metadata": {},
     "output_type": "execute_result"
    }
   ],
   "source": [
    "def get_QR(A, B): return A // B, A % B\n",
    "\n",
    "get_QR(10, 3)"
   ]
  },
  {
   "cell_type": "markdown",
   "metadata": {},
   "source": [
    "### Exercise: Euclidean Algorithm for determining GCD\n",
    "\n",
    "<div class=\"alert alert-success\">\n",
    "\n",
    "The Euclidean Algorithm for finding GCD(A,B) is as follows:\n",
    "<ol>\n",
    "    <li>If A = 0 then GCD(A,B)=B, since the GCD(0,B)=B, and we can stop.</li>  \n",
    "    <li>If B = 0 then GCD(A,B)=A, since the GCD(A,0)=A, and we can stop.</li>\n",
    "    <li>Find Q and R such that A = B⋅Q + R</li>\n",
    "    <li>Find GCD(B,R) using the Euclidean Algorithm since GCD(A,B) = GCD(B,R)</li>\n",
    "</ol>\n",
    "</div>\n",
    "\n",
    "<div class=\"alert alert-info\">\n",
    "Hint: The algorithm will only terminate when A = 0 or B = 0. Otherwise, it will continue iterating.\n",
    "</div>\n",
    "\n",
    "<div class=\"alert alert-info\">\n",
    "Bigger Hint: Using the previous hint, this means that you have to iterate and replace the value of A with B, and B with R until A = 0 or B = 0. This is a perfect use case for using the while loop.\n",
    "</div>"
   ]
  },
  {
   "cell_type": "code",
   "execution_count": 46,
   "metadata": {},
   "outputs": [],
   "source": [
    "def gcd(A, B):\n",
    "    while A != 0 and B != 0:\n",
    "        print(A, B)\n",
    "        Q, R = get_QR(A, B)\n",
    "        A = B\n",
    "        B = R\n",
    "    if A == 0:\n",
    "        return B\n",
    "    if B == 0:\n",
    "        return A"
   ]
  },
  {
   "cell_type": "code",
   "execution_count": 48,
   "metadata": {},
   "outputs": [],
   "source": [
    "# recursion\n",
    "def gcd_recursion(A, B):\n",
    "    if A == 0:\n",
    "        return B\n",
    "    elif B == 0:\n",
    "        return A\n",
    "    else:\n",
    "        Q, R = get_QR(A, B)\n",
    "        return gcd_recursion(B, R)"
   ]
  },
  {
   "cell_type": "code",
   "execution_count": 49,
   "metadata": {},
   "outputs": [
    {
     "data": {
      "text/plain": [
       "2"
      ]
     },
     "execution_count": 49,
     "metadata": {},
     "output_type": "execute_result"
    }
   ],
   "source": [
    "gcd_recursion(10, 4)"
   ]
  },
  {
   "cell_type": "markdown",
   "metadata": {},
   "source": [
    "### Trial Division Algorithm\n",
    "Number theorists are obsessed with prime numbers, not just for their beauty but also because they have some serious applications like in cryptography. A related task to that is the concept of **primality tests**. That is, we want to know if some number n is a prime number or not. One method is the trial division method.\n",
    "\n",
    "<div class=\"alert alert-success\">\n",
    "Create a function is_prime() with parameter n and returns <b>True</b> if it is prime and <b>False</b> otherwise.\n",
    "</div>"
   ]
  },
  {
   "cell_type": "code",
   "execution_count": 50,
   "metadata": {},
   "outputs": [],
   "source": [
    "def is_prime(n):\n",
    "    for d in range(2, n):\n",
    "        if n%d == 0:\n",
    "            return False\n",
    "    return True"
   ]
  },
  {
   "cell_type": "code",
   "execution_count": 57,
   "metadata": {},
   "outputs": [
    {
     "data": {
      "text/plain": [
       "True"
      ]
     },
     "execution_count": 57,
     "metadata": {},
     "output_type": "execute_result"
    }
   ],
   "source": [
    "is_prime(71)"
   ]
  },
  {
   "cell_type": "code",
   "execution_count": 58,
   "metadata": {},
   "outputs": [],
   "source": [
    "# the while version\n",
    "def is_prime2(n):\n",
    "    d = 2\n",
    "    while d < n:\n",
    "        if n%d == 0:\n",
    "            return False\n",
    "        d += 1\n",
    "    return True"
   ]
  },
  {
   "cell_type": "code",
   "execution_count": 60,
   "metadata": {},
   "outputs": [
    {
     "data": {
      "text/plain": [
       "True"
      ]
     },
     "execution_count": 60,
     "metadata": {},
     "output_type": "execute_result"
    }
   ],
   "source": [
    "is_prime2(61)"
   ]
  },
  {
   "cell_type": "code",
   "execution_count": 61,
   "metadata": {},
   "outputs": [],
   "source": [
    "# the while version (more optimized version)\n",
    "def is_prime3(n):\n",
    "    d = 2\n",
    "    while d*d <= n:\n",
    "        if n%d == 0:\n",
    "            return False\n",
    "        d += 1\n",
    "    return True"
   ]
  },
  {
   "cell_type": "code",
   "execution_count": 64,
   "metadata": {
    "scrolled": true
   },
   "outputs": [
    {
     "name": "stdout",
     "output_type": "stream",
     "text": [
      "The slowest run took 5.44 times longer than the fastest. This could mean that an intermediate result is being cached.\n",
      "482 ns ± 314 ns per loop (mean ± std. dev. of 7 runs, 1000000 loops each)\n"
     ]
    }
   ],
   "source": [
    "%%timeit\n",
    "is_prime2(100)"
   ]
  },
  {
   "cell_type": "code",
   "execution_count": 65,
   "metadata": {},
   "outputs": [
    {
     "name": "stdout",
     "output_type": "stream",
     "text": [
      "276 ns ± 35.7 ns per loop (mean ± std. dev. of 7 runs, 1000000 loops each)\n"
     ]
    }
   ],
   "source": [
    "%%timeit\n",
    "is_prime3(100)"
   ]
  },
  {
   "cell_type": "code",
   "execution_count": 83,
   "metadata": {},
   "outputs": [],
   "source": [
    "# the while version (more optimized version)\n",
    "def is_prime4(n):\n",
    "    d = 2\n",
    "    while d <= np.sqrt(n):\n",
    "        if n%d == 0:\n",
    "            return False\n",
    "        d += 1\n",
    "    return True"
   ]
  },
  {
   "cell_type": "code",
   "execution_count": 84,
   "metadata": {},
   "outputs": [
    {
     "data": {
      "text/plain": [
       "False"
      ]
     },
     "execution_count": 84,
     "metadata": {},
     "output_type": "execute_result"
    }
   ],
   "source": [
    "is_prime4(100)"
   ]
  },
  {
   "cell_type": "markdown",
   "metadata": {},
   "source": [
    "### Sieve of Erathosthenes (Demo)\n",
    "The sieve of Erathosthenes is an ancient method of determining primes up to a number n."
   ]
  },
  {
   "cell_type": "code",
   "execution_count": 94,
   "metadata": {},
   "outputs": [
    {
     "data": {
      "text/plain": [
       "[2, 4, 6, 8, 10]"
      ]
     },
     "execution_count": 94,
     "metadata": {},
     "output_type": "execute_result"
    }
   ],
   "source": [
    "list(range(2, 11, 2))"
   ]
  },
  {
   "cell_type": "code",
   "execution_count": 97,
   "metadata": {},
   "outputs": [],
   "source": [
    "def sieve_of_erathosthenes(n):\n",
    "    prime_candidates = [True for i in range(n+1)]\n",
    "\n",
    "    # set values for index 0 and 1 to be False\n",
    "    prime_candidates[0] = False\n",
    "    prime_candidates[1] = False\n",
    "\n",
    "    p = 2\n",
    "    while p*p <= n:\n",
    "        # if value is true, then p is a prime number\n",
    "        if prime_candidates[p] == True:\n",
    "            # remove multiples of p as candidate primes\n",
    "            for i in range(2*p, n+1, p):\n",
    "                prime_candidates[i] = False\n",
    "        p += 1\n",
    "\n",
    "    primes = [n for n in range(n+1) if prime_candidates[n]==True]\n",
    "    return primes"
   ]
  },
  {
   "cell_type": "code",
   "execution_count": 99,
   "metadata": {},
   "outputs": [
    {
     "data": {
      "text/plain": [
       "[2, 3, 5, 7]"
      ]
     },
     "execution_count": 99,
     "metadata": {},
     "output_type": "execute_result"
    }
   ],
   "source": [
    "sieve_of_erathosthenes(10)"
   ]
  },
  {
   "cell_type": "markdown",
   "metadata": {},
   "source": [
    "### Collatz Conjecture\n",
    "This conjecture remains an open problem in number theory. What intrigues people about it is that it has a very simple-looking premise.\n",
    "\n",
    "<div class=\"alert alert-success\">\n",
    "Here's the definition:\n",
    "<ol>\n",
    "    <li>Start with any positive integer n.</li>  \n",
    "    <li>If n is even, divide it by 2.</li>\n",
    "    <li>Otherwise, if n is odd, the next term is 3*n + 1</li>\n",
    "    <li>If the next term becomes 1, display the following: \"Program terminates for n\" and terminate the program.</li>\n",
    "</ol>\n",
    "The conjecture claims that for any value of n, the sequence will always reach 1.\n",
    "</div>"
   ]
  },
  {
   "cell_type": "code",
   "execution_count": 108,
   "metadata": {},
   "outputs": [],
   "source": [
    "def collatz(n):\n",
    "    if n == 1:\n",
    "        print(\"Program terminates for n\")\n",
    "    else:\n",
    "        if n%2 == 0:\n",
    "            return collatz(int(n/2))\n",
    "        else:\n",
    "            return collatz(3*n + 1)"
   ]
  },
  {
   "cell_type": "code",
   "execution_count": 109,
   "metadata": {},
   "outputs": [
    {
     "name": "stdout",
     "output_type": "stream",
     "text": [
      "Program terminates for n\n"
     ]
    }
   ],
   "source": [
    "collatz(10)"
   ]
  },
  {
   "cell_type": "code",
   "execution_count": 110,
   "metadata": {},
   "outputs": [
    {
     "name": "stdout",
     "output_type": "stream",
     "text": [
      "Program terminates for n\n"
     ]
    }
   ],
   "source": [
    "def collatz2(n):\n",
    "    if n == 1:\n",
    "        print(\"Program terminates for n\")\n",
    "    elif n%2 == 0:\n",
    "        return collatz(int(n/2))\n",
    "    else:\n",
    "        return collatz(3*n + 1)\n",
    "    \n",
    "collatz2(10)"
   ]
  },
  {
   "cell_type": "code",
   "execution_count": 115,
   "metadata": {},
   "outputs": [],
   "source": [
    "def collatz3(n):\n",
    "    new_n = n\n",
    "    while new_n != 1:\n",
    "        print(new_n)\n",
    "        if new_n % 2 == 0:\n",
    "            new_n = int(new_n / 2)\n",
    "        else:\n",
    "            new_n = 3*new_n + 1\n",
    "    print('Program terminates for n=' + str(n))"
   ]
  },
  {
   "cell_type": "code",
   "execution_count": 117,
   "metadata": {},
   "outputs": [
    {
     "name": "stdout",
     "output_type": "stream",
     "text": [
      "10131239413491374\n",
      "5065619706745687\n",
      "15196859120237062\n",
      "7598429560118531\n",
      "22795288680355594\n",
      "11397644340177796\n",
      "5698822170088898\n",
      "2849411085044449\n",
      "8548233255133348\n",
      "4274116627566674\n",
      "2137058313783337\n",
      "6411174941350012\n",
      "3205587470675006\n",
      "1602793735337503\n",
      "4808381206012510\n",
      "2404190603006255\n",
      "7212571809018766\n",
      "3606285904509383\n",
      "10818857713528150\n",
      "5409428856764075\n",
      "16228286570292226\n",
      "8114143285146113\n",
      "24342429855438340\n",
      "12171214927719170\n",
      "6085607463859585\n",
      "18256822391578756\n",
      "9128411195789378\n",
      "4564205597894689\n",
      "13692616793684068\n",
      "6846308396842034\n",
      "3423154198421017\n",
      "10269462595263052\n",
      "5134731297631526\n",
      "2567365648815763\n",
      "7702096946447290\n",
      "3851048473223645\n",
      "11553145419670936\n",
      "5776572709835468\n",
      "2888286354917734\n",
      "1444143177458867\n",
      "4332429532376602\n",
      "2166214766188301\n",
      "6498644298564904\n",
      "3249322149282452\n",
      "1624661074641226\n",
      "812330537320613\n",
      "2436991611961840\n",
      "1218495805980920\n",
      "609247902990460\n",
      "304623951495230\n",
      "152311975747615\n",
      "456935927242846\n",
      "228467963621423\n",
      "685403890864270\n",
      "342701945432135\n",
      "1028105836296406\n",
      "514052918148203\n",
      "1542158754444610\n",
      "771079377222305\n",
      "2313238131666916\n",
      "1156619065833458\n",
      "578309532916729\n",
      "1734928598750188\n",
      "867464299375094\n",
      "433732149687547\n",
      "1301196449062642\n",
      "650598224531321\n",
      "1951794673593964\n",
      "975897336796982\n",
      "487948668398491\n",
      "1463846005195474\n",
      "731923002597737\n",
      "2195769007793212\n",
      "1097884503896606\n",
      "548942251948303\n",
      "1646826755844910\n",
      "823413377922455\n",
      "2470240133767366\n",
      "1235120066883683\n",
      "3705360200651050\n",
      "1852680100325525\n",
      "5558040300976576\n",
      "2779020150488288\n",
      "1389510075244144\n",
      "694755037622072\n",
      "347377518811036\n",
      "173688759405518\n",
      "86844379702759\n",
      "260533139108278\n",
      "130266569554139\n",
      "390799708662418\n",
      "195399854331209\n",
      "586199562993628\n",
      "293099781496814\n",
      "146549890748407\n",
      "439649672245222\n",
      "219824836122611\n",
      "659474508367834\n",
      "329737254183917\n",
      "989211762551752\n",
      "494605881275876\n",
      "247302940637938\n",
      "123651470318969\n",
      "370954410956908\n",
      "185477205478454\n",
      "92738602739227\n",
      "278215808217682\n",
      "139107904108841\n",
      "417323712326524\n",
      "208661856163262\n",
      "104330928081631\n",
      "312992784244894\n",
      "156496392122447\n",
      "469489176367342\n",
      "234744588183671\n",
      "704233764551014\n",
      "352116882275507\n",
      "1056350646826522\n",
      "528175323413261\n",
      "1584525970239784\n",
      "792262985119892\n",
      "396131492559946\n",
      "198065746279973\n",
      "594197238839920\n",
      "297098619419960\n",
      "148549309709980\n",
      "74274654854990\n",
      "37137327427495\n",
      "111411982282486\n",
      "55705991141243\n",
      "167117973423730\n",
      "83558986711865\n",
      "250676960135596\n",
      "125338480067798\n",
      "62669240033899\n",
      "188007720101698\n",
      "94003860050849\n",
      "282011580152548\n",
      "141005790076274\n",
      "70502895038137\n",
      "211508685114412\n",
      "105754342557206\n",
      "52877171278603\n",
      "158631513835810\n",
      "79315756917905\n",
      "237947270753716\n",
      "118973635376858\n",
      "59486817688429\n",
      "178460453065288\n",
      "89230226532644\n",
      "44615113266322\n",
      "22307556633161\n",
      "66922669899484\n",
      "33461334949742\n",
      "16730667474871\n",
      "50192002424614\n",
      "25096001212307\n",
      "75288003636922\n",
      "37644001818461\n",
      "112932005455384\n",
      "56466002727692\n",
      "28233001363846\n",
      "14116500681923\n",
      "42349502045770\n",
      "21174751022885\n",
      "63524253068656\n",
      "31762126534328\n",
      "15881063267164\n",
      "7940531633582\n",
      "3970265816791\n",
      "11910797450374\n",
      "5955398725187\n",
      "17866196175562\n",
      "8933098087781\n",
      "26799294263344\n",
      "13399647131672\n",
      "6699823565836\n",
      "3349911782918\n",
      "1674955891459\n",
      "5024867674378\n",
      "2512433837189\n",
      "7537301511568\n",
      "3768650755784\n",
      "1884325377892\n",
      "942162688946\n",
      "471081344473\n",
      "1413244033420\n",
      "706622016710\n",
      "353311008355\n",
      "1059933025066\n",
      "529966512533\n",
      "1589899537600\n",
      "794949768800\n",
      "397474884400\n",
      "198737442200\n",
      "99368721100\n",
      "49684360550\n",
      "24842180275\n",
      "74526540826\n",
      "37263270413\n",
      "111789811240\n",
      "55894905620\n",
      "27947452810\n",
      "13973726405\n",
      "41921179216\n",
      "20960589608\n",
      "10480294804\n",
      "5240147402\n",
      "2620073701\n",
      "7860221104\n",
      "3930110552\n",
      "1965055276\n",
      "982527638\n",
      "491263819\n",
      "1473791458\n",
      "736895729\n",
      "2210687188\n",
      "1105343594\n",
      "552671797\n",
      "1658015392\n",
      "829007696\n",
      "414503848\n",
      "207251924\n",
      "103625962\n",
      "51812981\n",
      "155438944\n",
      "77719472\n",
      "38859736\n",
      "19429868\n",
      "9714934\n",
      "4857467\n",
      "14572402\n",
      "7286201\n",
      "21858604\n",
      "10929302\n",
      "5464651\n",
      "16393954\n",
      "8196977\n",
      "24590932\n",
      "12295466\n",
      "6147733\n",
      "18443200\n",
      "9221600\n",
      "4610800\n",
      "2305400\n",
      "1152700\n",
      "576350\n",
      "288175\n",
      "864526\n",
      "432263\n",
      "1296790\n",
      "648395\n",
      "1945186\n",
      "972593\n",
      "2917780\n",
      "1458890\n",
      "729445\n",
      "2188336\n",
      "1094168\n",
      "547084\n",
      "273542\n",
      "136771\n",
      "410314\n",
      "205157\n",
      "615472\n",
      "307736\n",
      "153868\n",
      "76934\n",
      "38467\n",
      "115402\n",
      "57701\n",
      "173104\n",
      "86552\n",
      "43276\n",
      "21638\n",
      "10819\n",
      "32458\n",
      "16229\n",
      "48688\n",
      "24344\n",
      "12172\n",
      "6086\n",
      "3043\n",
      "9130\n",
      "4565\n",
      "13696\n",
      "6848\n",
      "3424\n",
      "1712\n",
      "856\n",
      "428\n",
      "214\n",
      "107\n",
      "322\n",
      "161\n",
      "484\n",
      "242\n",
      "121\n",
      "364\n",
      "182\n",
      "91\n",
      "274\n",
      "137\n",
      "412\n",
      "206\n",
      "103\n",
      "310\n",
      "155\n",
      "466\n",
      "233\n",
      "700\n",
      "350\n",
      "175\n",
      "526\n",
      "263\n",
      "790\n",
      "395\n",
      "1186\n",
      "593\n",
      "1780\n",
      "890\n",
      "445\n",
      "1336\n",
      "668\n",
      "334\n",
      "167\n",
      "502\n",
      "251\n",
      "754\n",
      "377\n",
      "1132\n",
      "566\n",
      "283\n",
      "850\n",
      "425\n",
      "1276\n",
      "638\n",
      "319\n",
      "958\n",
      "479\n",
      "1438\n",
      "719\n",
      "2158\n",
      "1079\n",
      "3238\n",
      "1619\n",
      "4858\n",
      "2429\n",
      "7288\n",
      "3644\n",
      "1822\n",
      "911\n",
      "2734\n",
      "1367\n",
      "4102\n",
      "2051\n",
      "6154\n",
      "3077\n",
      "9232\n",
      "4616\n",
      "2308\n",
      "1154\n",
      "577\n",
      "1732\n",
      "866\n",
      "433\n",
      "1300\n",
      "650\n",
      "325\n",
      "976\n",
      "488\n",
      "244\n",
      "122\n",
      "61\n",
      "184\n",
      "92\n",
      "46\n",
      "23\n",
      "70\n",
      "35\n",
      "106\n",
      "53\n",
      "160\n",
      "80\n",
      "40\n",
      "20\n",
      "10\n",
      "5\n",
      "16\n",
      "8\n",
      "4\n",
      "2\n",
      "Program terminates for n=10131239413491374\n"
     ]
    }
   ],
   "source": [
    "collatz3(10131239413491374)"
   ]
  },
  {
   "cell_type": "code",
   "execution_count": null,
   "metadata": {},
   "outputs": [],
   "source": []
  }
 ],
 "metadata": {
  "kernelspec": {
   "display_name": "Python 3",
   "language": "python",
   "name": "python3"
  },
  "language_info": {
   "codemirror_mode": {
    "name": "ipython",
    "version": 3
   },
   "file_extension": ".py",
   "mimetype": "text/x-python",
   "name": "python",
   "nbconvert_exporter": "python",
   "pygments_lexer": "ipython3",
   "version": "3.7.4"
  }
 },
 "nbformat": 4,
 "nbformat_minor": 4
}
