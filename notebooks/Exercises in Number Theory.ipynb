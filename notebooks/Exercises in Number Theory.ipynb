{
 "cells": [
  {
   "cell_type": "markdown",
   "metadata": {},
   "source": [
    "# Exercises in Number Theory\n",
    "\n",
    "So far, you have learned the basics of python programming. In this notebook, we will do several exercises to consolidate what we have learned in the last notebook. This will also allow us to think about how to create programmatic solutions. Some of th\n",
    "\n",
    "This notebook contains exercises related to number theory. Some of these exercises are inspired by exercises in my Number Theory class in college when I thought:\n",
    "\n",
    "\"This can be easily done using a computer program.\""
   ]
  },
  {
   "cell_type": "markdown",
   "metadata": {},
   "source": [
    "### Exercise: Multiples of 3 and 5\n",
    "<div class=\"alert alert-success\">\n",
    "If we list all the natural numbers below 10 that are multiples of 3 or 5, we get 3, 5, 6 and 9. The sum of these multiples is 23.\n",
    "\n",
    "Find the sum of all the multiples of 3 or 5 below 1000.\n",
    "</div>\n",
    "\n",
    "<div class=\"alert alert-info\">\n",
    "Hint: If you are using list or set comprehensions to solve this, you can get the sum by doing sum(list_of_numbers)\n",
    "</div>\n",
    "\n",
    "This problem is the first programming problem in [projecteuler.net](https://projecteuler.net/problem=1). You can further improve both you programming and mathematical skills by answering programming problems in this website."
   ]
  },
  {
   "cell_type": "code",
   "execution_count": null,
   "metadata": {},
   "outputs": [],
   "source": []
  },
  {
   "cell_type": "markdown",
   "metadata": {},
   "source": [
    "### Exercise: Fibonacci Numbers\n",
    "<div class=\"alert alert-success\">\n",
    "Create a function with parameter n and returns a list of all fibonacci numbers less than or equal to n.\n",
    "</div>"
   ]
  },
  {
   "cell_type": "code",
   "execution_count": null,
   "metadata": {},
   "outputs": [],
   "source": []
  },
  {
   "cell_type": "markdown",
   "metadata": {},
   "source": [
    "### Exercise: Quotient Remainder Theorem\n",
    "<div class=\"alert alert-success\">\n",
    "Create a function with parameters A and B and returns two values Q and R such that A = B*Q + R. \n",
    "    \n",
    "Note that as per the Quotient Remainder Theorem, Q and R are unique.\n",
    "</div>"
   ]
  },
  {
   "cell_type": "code",
   "execution_count": null,
   "metadata": {},
   "outputs": [],
   "source": []
  },
  {
   "cell_type": "markdown",
   "metadata": {},
   "source": [
    "### Exercise: Euclidean Algorithm for determining GCD\n",
    "\n",
    "<div class=\"alert alert-success\">\n",
    "\n",
    "The Euclidean Algorithm for finding GCD(A,B) is as follows:\n",
    "<ol>\n",
    "    <li>If A = 0 then GCD(A,B)=B, since the GCD(0,B)=B, and we can stop.</li>  \n",
    "    <li>If B = 0 then GCD(A,B)=A, since the GCD(A,0)=A, and we can stop.</li>\n",
    "    <li>Find Q and R such that A = B⋅Q + R</li>\n",
    "    <li>Find GCD(B,R) using the Euclidean Algorithm since GCD(A,B) = GCD(B,R)</li>\n",
    "</ol>\n",
    "</div>\n",
    "\n",
    "<div class=\"alert alert-info\">\n",
    "Hint: The algorithm will only terminate when A = 0 or B = 0. Otherwise, it will continue iterating.\n",
    "</div>\n",
    "\n",
    "<div class=\"alert alert-info\">\n",
    "Bigger Hint: Using the previous hint, this means that you have to iterate and replace the value of A with B, and B with R until A = 0 or B = 0. This is a perfect use case for using the while loop.\n",
    "</div>"
   ]
  },
  {
   "cell_type": "code",
   "execution_count": null,
   "metadata": {},
   "outputs": [],
   "source": []
  },
  {
   "cell_type": "markdown",
   "metadata": {},
   "source": [
    "### Trial Division Algorithm\n",
    "Number theorists are obsessed with prime numbers, not just for their beauty but also because they have some serious applications like in cryptography. A related task to that is the concept of **primality tests**. That is, we want to know if some number n is a prime number or not. One method is the trial division method.\n",
    "\n",
    "<div class=\"alert alert-success\">\n",
    "    The algorithm is stated as follows:\n",
    "    <ol>\n",
    "        <li>Take in a positive integer n</li>  \n",
    "        <li>For each integer i from 2 to square root of n, check if i divides n</li>\n",
    "        <li>If i divides n, then n is composite. Otherwise, it is prime.</li>\n",
    "    </ol>\n",
    "\n",
    "Create a function is_prime() with parameter n and returns True if it is prime and False otherwise.\n",
    "</div>"
   ]
  },
  {
   "cell_type": "markdown",
   "metadata": {},
   "source": [
    "To get the square root of a number you need to **import the math package** which will be shown below."
   ]
  },
  {
   "cell_type": "code",
   "execution_count": 3,
   "metadata": {},
   "outputs": [],
   "source": [
    "import math"
   ]
  },
  {
   "cell_type": "code",
   "execution_count": 6,
   "metadata": {},
   "outputs": [
    {
     "data": {
      "text/plain": [
       "3.0"
      ]
     },
     "execution_count": 6,
     "metadata": {},
     "output_type": "execute_result"
    }
   ],
   "source": [
    "# example\n",
    "\n",
    "n = 16 # suppose n is 16\n",
    "n_sqrt = math.sqrt(9)\n",
    "n_sqrt"
   ]
  },
  {
   "cell_type": "markdown",
   "metadata": {},
   "source": [
    "Notice that the result is a float. However, float values are not accepted in the `range()` function."
   ]
  },
  {
   "cell_type": "code",
   "execution_count": 8,
   "metadata": {},
   "outputs": [
    {
     "ename": "TypeError",
     "evalue": "'float' object cannot be interpreted as an integer",
     "output_type": "error",
     "traceback": [
      "\u001b[0;31m---------------------------------------------------------------------------\u001b[0m",
      "\u001b[0;31mTypeError\u001b[0m                                 Traceback (most recent call last)",
      "\u001b[0;32m<ipython-input-8-391cba6bc3c6>\u001b[0m in \u001b[0;36m<module>\u001b[0;34m\u001b[0m\n\u001b[0;32m----> 1\u001b[0;31m \u001b[0mrange\u001b[0m\u001b[0;34m(\u001b[0m\u001b[0mn_sqrt\u001b[0m\u001b[0;34m)\u001b[0m\u001b[0;34m\u001b[0m\u001b[0;34m\u001b[0m\u001b[0m\n\u001b[0m",
      "\u001b[0;31mTypeError\u001b[0m: 'float' object cannot be interpreted as an integer"
     ]
    }
   ],
   "source": [
    "range(n_sqrt)"
   ]
  },
  {
   "cell_type": "markdown",
   "metadata": {},
   "source": [
    "Since that is the case, we need to convert the float to an integer. To do this, we can use the `int()` function"
   ]
  },
  {
   "cell_type": "code",
   "execution_count": 9,
   "metadata": {},
   "outputs": [
    {
     "data": {
      "text/plain": [
       "3"
      ]
     },
     "execution_count": 9,
     "metadata": {},
     "output_type": "execute_result"
    }
   ],
   "source": [
    "int(n_sqrt)"
   ]
  },
  {
   "cell_type": "markdown",
   "metadata": {},
   "source": [
    "For non-integer floats, the `int` method will truncate towards zero."
   ]
  },
  {
   "cell_type": "code",
   "execution_count": 14,
   "metadata": {
    "scrolled": true
   },
   "outputs": [
    {
     "name": "stdout",
     "output_type": "stream",
     "text": [
      "3.1622776601683795\n",
      "3\n"
     ]
    }
   ],
   "source": [
    "print(math.sqrt(10))\n",
    "print(int(math.sqrt(10)))"
   ]
  },
  {
   "cell_type": "markdown",
   "metadata": {},
   "source": [
    "Okay, enough said. You can now proceed to creating your trial division algorithm."
   ]
  },
  {
   "cell_type": "code",
   "execution_count": null,
   "metadata": {},
   "outputs": [],
   "source": []
  },
  {
   "cell_type": "markdown",
   "metadata": {},
   "source": [
    "### Sieve of Erathosthenes (Demo)\n",
    "The sieve of Erathosthenes is an ancient method of determining primes up to a number n."
   ]
  },
  {
   "cell_type": "code",
   "execution_count": 22,
   "metadata": {},
   "outputs": [],
   "source": [
    "def sieve_of_erathosthenes(n):\n",
    "    # begin by creating a list to represent each of the numbers from 1 to n (including n)\n",
    "    prime_candidates = [True for i in range(n+1)] # we first assume that all numbers are prime candidates\n",
    "\n",
    "    # set the first and second index to False since 0 and 1 are not primes\n",
    "    prime_candidates[0] = False\n",
    "    prime_candidates[1] = False\n",
    "\n",
    "    # begin with 2, the smallest prime\n",
    "    p = 2\n",
    "\n",
    "    while p*p <= n: # this will ensure that we only look for values of p up to sqrt of n\n",
    "\n",
    "        # if value is true, then p is a prime number\n",
    "        if prime_candidates[p] == True:\n",
    "\n",
    "            # flag all multiples of p as composite\n",
    "            for i in range(2*p, n+1, p):\n",
    "                prime_candidates[i] = False\n",
    "\n",
    "        # increment p, otherwise, we will be stuck in an infinite loop\n",
    "        p += 1\n",
    "\n",
    "    # determine the primes from the list of prime candidates\n",
    "    primes = [i for i in range(n+1) if prime_candidates[i]==True]\n",
    "\n",
    "    return primes"
   ]
  },
  {
   "cell_type": "code",
   "execution_count": 25,
   "metadata": {},
   "outputs": [
    {
     "data": {
      "text/plain": [
       "[2, 3, 5, 7, 11, 13, 17, 19]"
      ]
     },
     "execution_count": 25,
     "metadata": {},
     "output_type": "execute_result"
    }
   ],
   "source": [
    "sieve_of_erathosthenes(20)"
   ]
  },
  {
   "cell_type": "markdown",
   "metadata": {},
   "source": [
    "### Collatz Conjecture\n",
    "This conjecture remains an open problem in number theory. What intrigues people about it is that it has a very simple-looking premise.\n",
    "\n",
    "<div class=\"alert alert-success\">\n",
    "Here's the definition:\n",
    "<ol>\n",
    "    <li>Start with any positive integer n.</li>  \n",
    "    <li>If n is even, divide it by 2.</li>\n",
    "    <li>Otherwise, if n is odd, the next term is 3*n + 1</li>\n",
    "    <li>If the next term becomes 1, display the following: \"Program terminates for n\" and terminate the program.</li>\n",
    "</ol>\n",
    "The conjecture claims that for any value of n, the sequence will always reach 1.\n",
    "</div>"
   ]
  },
  {
   "cell_type": "code",
   "execution_count": 34,
   "metadata": {},
   "outputs": [],
   "source": [
    "def collatz(n):\n",
    "    new_n = n\n",
    "    while new_n != 1:\n",
    "        print(new_n)\n",
    "        if new_n % 2 == 0:\n",
    "            new_n = int(new_n / 2)\n",
    "        else:\n",
    "            new_n = 3*new_n + 1\n",
    "    print(f'Program terminates for n={n}!')"
   ]
  },
  {
   "cell_type": "markdown",
   "metadata": {},
   "source": [
    "## Final Notes\n",
    "In this notebook, we practiced our programming skills by working on some exercises in number theory. This exercise has been short but I hope that you learned enough and gained some inspiration and confidence about using python. Personally, I enjoy programming challenges that involves designing algorithms.\n",
    "\n",
    "Please visit projecteuler.net if you want to explore other challenges similar to the ones we discussed here."
   ]
  },
  {
   "cell_type": "code",
   "execution_count": null,
   "metadata": {},
   "outputs": [],
   "source": []
  }
 ],
 "metadata": {
  "kernelspec": {
   "display_name": "Python 3",
   "language": "python",
   "name": "python3"
  },
  "language_info": {
   "codemirror_mode": {
    "name": "ipython",
    "version": 3
   },
   "file_extension": ".py",
   "mimetype": "text/x-python",
   "name": "python",
   "nbconvert_exporter": "python",
   "pygments_lexer": "ipython3",
   "version": "3.7.4"
  }
 },
 "nbformat": 4,
 "nbformat_minor": 4
}
