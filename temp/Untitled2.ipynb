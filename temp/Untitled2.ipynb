{
 "cells": [
  {
   "cell_type": "markdown",
   "metadata": {},
   "source": [
    "# Matrix Decompositions\n",
    "\n",
    "## Decompositions Related to Solving Linear Systems\n",
    "A fundamental problem in linear algebra is solving the linear system $Ax=b$, if it is even possible. In this section, we will implement two versions of the LU algorithm and demonstrate how to use numpy to run other decomposition methods.\n",
    "\n",
    "### LU Decomposition (Version 1)\n",
    "\n",
    "**Pseudocode for LU_decomposition()**\n",
    "1. m, n = shape(A) - *get the shape of A*\n",
    "2. U = copy(A) - *create a copy of A using np.copy()*\n",
    "3. L = $I_{m}$ - *initialize L with the mxm identity matrix*\n",
    "4. for $j$ from $0$ to $n-1$: - iterate over the columns of A\n",
    "    1. for $i$ from $j+1$ to $m-1$:\n",
    "        1. $L_{i,j} \\leftarrow U_{i,j}/U{j,j}$\n",
    "        2. $U_{i,j:} \\leftarrow U_{i,j:} - L_{i,j}U_{j,j:}$\n",
    "5. Return L, U\n",
    "\n",
    "<div class=\"alert alert-success\">\n",
    "Exercise:\n",
    "Implement the first version of the LU decomposition.\n",
    "</div>"
   ]
  },
  {
   "cell_type": "code",
   "execution_count": 2,
   "metadata": {},
   "outputs": [],
   "source": [
    "import numpy as np"
   ]
  },
  {
   "cell_type": "code",
   "execution_count": 3,
   "metadata": {},
   "outputs": [
    {
     "data": {
      "text/plain": [
       "array([[ 0.28755976,  0.26935347, -0.26225958],\n",
       "       [ 0.48785367, -0.73763766, -0.3108648 ],\n",
       "       [ 0.55285262, -0.15319234,  0.74227847],\n",
       "       [-1.65826549,  0.87885861, -0.43820351]])"
      ]
     },
     "execution_count": 3,
     "metadata": {},
     "output_type": "execute_result"
    }
   ],
   "source": [
    "# generate a sample A that we can work on\n",
    "A = np.random.randn(4, 3)\n",
    "A"
   ]
  },
  {
   "cell_type": "code",
   "execution_count": 26,
   "metadata": {},
   "outputs": [],
   "source": [
    "def LU_decomposition(A):\n",
    "    m, n = A.shape\n",
    "    U = A.copy()\n",
    "    L = np.eye(m)\n",
    "\n",
    "    for j in range(n):\n",
    "        for i in range(j+1, m):\n",
    "            L[i, j] = U[i, j] / U[j, j]\n",
    "            U[i, j:] = U[i, j:] - L[i, j]*U[j, j:]\n",
    "\n",
    "    return L, U"
   ]
  },
  {
   "cell_type": "code",
   "execution_count": 40,
   "metadata": {},
   "outputs": [
    {
     "data": {
      "text/plain": [
       "True"
      ]
     },
     "execution_count": 40,
     "metadata": {},
     "output_type": "execute_result"
    }
   ],
   "source": [
    "L, U = LU_decomposition(A)\n",
    "np.allclose(L.dot(U), A)"
   ]
  },
  {
   "cell_type": "code",
   "execution_count": 29,
   "metadata": {},
   "outputs": [
    {
     "data": {
      "text/plain": [
       "5.095246377785861e-16"
      ]
     },
     "execution_count": 29,
     "metadata": {},
     "output_type": "execute_result"
    }
   ],
   "source": [
    "np.sqrt(((L.dot(U) - A)**2).sum())"
   ]
  },
  {
   "cell_type": "markdown",
   "metadata": {},
   "source": [
    "### Fast LU Decomposition via *Vectorization*\n",
    "In our first LU Decomposition algorithm, notice that we had a loop inside a loop. One way to speed up the computation is by the use of **vectorization**. Simply put, vectorization means taking advantage of vectors to perform parallel computations instead of iterating over each entry in the vector."
   ]
  },
  {
   "cell_type": "code",
   "execution_count": 37,
   "metadata": {},
   "outputs": [],
   "source": [
    "def LU_decomposition2(A):\n",
    "    m, n = A.shape\n",
    "    U = A.copy()\n",
    "    L = np.eye(m)\n",
    "\n",
    "    for j in range(n):\n",
    "        L[j+1:, j] = U[j+1:, j] / U[j, j]\n",
    "        U[j+1:, j:] = U[j+1:, j:] - np.outer( L[j+1:, j], U[j, j:].T)\n",
    "\n",
    "    return L, U"
   ]
  },
  {
   "cell_type": "markdown",
   "metadata": {},
   "source": [
    "#### Why outer product?\n",
    "\n",
    "<img src='./notebooks/sketch.jpg' width=700>"
   ]
  },
  {
   "cell_type": "code",
   "execution_count": 41,
   "metadata": {},
   "outputs": [
    {
     "data": {
      "text/plain": [
       "True"
      ]
     },
     "execution_count": 41,
     "metadata": {},
     "output_type": "execute_result"
    }
   ],
   "source": [
    "L1, U1 = LU_decomposition2(A)\n",
    "np.allclose(L.dot(U), A)"
   ]
  },
  {
   "cell_type": "code",
   "execution_count": 39,
   "metadata": {},
   "outputs": [
    {
     "data": {
      "text/plain": [
       "5.095246377785861e-16"
      ]
     },
     "execution_count": 39,
     "metadata": {},
     "output_type": "execute_result"
    }
   ],
   "source": [
    "np.sqrt(((L.dot(U) - A)**2).sum())"
   ]
  },
  {
   "cell_type": "code",
   "execution_count": 43,
   "metadata": {},
   "outputs": [
    {
     "data": {
      "text/plain": [
       "True"
      ]
     },
     "execution_count": 43,
     "metadata": {},
     "output_type": "execute_result"
    }
   ],
   "source": [
    "np.all(L == L1)"
   ]
  },
  {
   "cell_type": "code",
   "execution_count": 44,
   "metadata": {},
   "outputs": [
    {
     "data": {
      "text/plain": [
       "True"
      ]
     },
     "execution_count": 44,
     "metadata": {},
     "output_type": "execute_result"
    }
   ],
   "source": [
    "np.all(U == U1)"
   ]
  },
  {
   "cell_type": "code",
   "execution_count": 59,
   "metadata": {},
   "outputs": [
    {
     "data": {
      "text/plain": [
       "(100, 100)"
      ]
     },
     "execution_count": 59,
     "metadata": {},
     "output_type": "execute_result"
    }
   ],
   "source": [
    "# generate a sample A that we can work on\n",
    "A = np.random.randn(100, 100)\n",
    "A.shape"
   ]
  },
  {
   "cell_type": "code",
   "execution_count": 60,
   "metadata": {},
   "outputs": [
    {
     "name": "stdout",
     "output_type": "stream",
     "text": [
      "36 ms ± 16.4 ms per loop (mean ± std. dev. of 7 runs, 10 loops each)\n"
     ]
    }
   ],
   "source": [
    "%%timeit\n",
    "L, U = LU_decomposition(A)"
   ]
  },
  {
   "cell_type": "code",
   "execution_count": 61,
   "metadata": {},
   "outputs": [
    {
     "name": "stdout",
     "output_type": "stream",
     "text": [
      "5.1 ms ± 1.04 ms per loop (mean ± std. dev. of 7 runs, 100 loops each)\n"
     ]
    }
   ],
   "source": [
    "%%timeit\n",
    "L1, U1 = LU_decomposition2(A)"
   ]
  },
  {
   "cell_type": "markdown",
   "metadata": {},
   "source": [
    "### Scipy Matrix Decomposition and Linear System Solvers"
   ]
  },
  {
   "cell_type": "code",
   "execution_count": 53,
   "metadata": {},
   "outputs": [],
   "source": [
    "from scipy import linalg"
   ]
  },
  {
   "cell_type": "markdown",
   "metadata": {},
   "source": [
    "#### LU Decomposition"
   ]
  },
  {
   "cell_type": "code",
   "execution_count": 62,
   "metadata": {},
   "outputs": [
    {
     "name": "stdout",
     "output_type": "stream",
     "text": [
      "168 µs ± 41.9 µs per loop (mean ± std. dev. of 7 runs, 1000 loops each)\n"
     ]
    }
   ],
   "source": [
    "%%timeit\n",
    "lu, piv = linalg.lu_factor(A)"
   ]
  },
  {
   "cell_type": "code",
   "execution_count": 71,
   "metadata": {},
   "outputs": [
    {
     "data": {
      "text/plain": [
       "array([-1.62391468,  0.48156698,  1.33514319, -1.67806577,  1.51046784,\n",
       "        1.84171878, -2.44578966,  0.25345874,  1.40257597, -2.0575119 ])"
      ]
     },
     "execution_count": 71,
     "metadata": {},
     "output_type": "execute_result"
    }
   ],
   "source": [
    "# Generate a random matrix and a random vector\n",
    "A = np.random.random((10, 10))\n",
    "b = np.random.random(10)\n",
    "\n",
    "# Compute the LU decomposition of A and Pivots\n",
    "lu, piv = linalg.lu_factor(A)\n",
    "\n",
    "# Find the solution x to Ax = b\n",
    "x = linalg.lu_solve((lu, piv), b)\n",
    "x"
   ]
  },
  {
   "cell_type": "code",
   "execution_count": 73,
   "metadata": {},
   "outputs": [
    {
     "data": {
      "text/plain": [
       "True"
      ]
     },
     "execution_count": 73,
     "metadata": {},
     "output_type": "execute_result"
    }
   ],
   "source": [
    "np.allclose(A.dot(x), b)"
   ]
  },
  {
   "cell_type": "markdown",
   "metadata": {},
   "source": [
    "### QR Decomposition"
   ]
  },
  {
   "cell_type": "code",
   "execution_count": 76,
   "metadata": {},
   "outputs": [
    {
     "data": {
      "text/plain": [
       "True"
      ]
     },
     "execution_count": 76,
     "metadata": {},
     "output_type": "execute_result"
    }
   ],
   "source": [
    "# get values for Q and R\n",
    "Q, R = linalg.qr(A)\n",
    "\n",
    "# create new variable y\n",
    "y = Q.T.dot(b)\n",
    "\n",
    "# Solve the equivalent problem to Ax = b\n",
    "x = linalg.solve(R, y) # Solve Rx = y\n",
    "\n",
    "np.allclose(A.dot(x), b)"
   ]
  },
  {
   "cell_type": "markdown",
   "metadata": {},
   "source": [
    "### Cholesky Decomposition"
   ]
  },
  {
   "cell_type": "code",
   "execution_count": 77,
   "metadata": {},
   "outputs": [
    {
     "data": {
      "text/plain": [
       "array([-0.01749271,  0.11953353,  0.01166181,  0.1574344 ])"
      ]
     },
     "execution_count": 77,
     "metadata": {},
     "output_type": "execute_result"
    }
   ],
   "source": [
    "A = np.array([[9, 3, 1, 5],\n",
    "              [3, 7, 5, 1],\n",
    "              [1, 5, 9, 2],\n",
    "              [5, 1, 2, 6]])\n",
    "\n",
    "b = np.array([1, 1, 1, 1])\n",
    "\n",
    "c, low = linalg.cho_factor(A)\n",
    "x = linalg.cho_solve((c, low), b)\n",
    "x"
   ]
  },
  {
   "cell_type": "markdown",
   "metadata": {},
   "source": [
    "## Other Linear Algebra Routines in Scipy\n",
    "\n",
    "```Python\n",
    "det() - determinant of a square matrix\n",
    "eig() - eigenvalues and eigenvectors of a square matrix\n",
    "inv() - inverse of an invertible matrix\n",
    "norm() - norm of a matrix or vector\n",
    "```"
   ]
  },
  {
   "cell_type": "code",
   "execution_count": 80,
   "metadata": {},
   "outputs": [
    {
     "data": {
      "text/plain": [
       "686.0"
      ]
     },
     "execution_count": 80,
     "metadata": {},
     "output_type": "execute_result"
    }
   ],
   "source": [
    "linalg.det(A)"
   ]
  },
  {
   "cell_type": "code",
   "execution_count": 81,
   "metadata": {},
   "outputs": [
    {
     "data": {
      "text/plain": [
       "(array([ 1.11399545,  3.92957693,  9.55408093, 16.40234669]),\n",
       " array([[ 0.50652672, -0.29233034,  0.59370792,  0.55270658],\n",
       "        [-0.49848052, -0.61982187, -0.34427146,  0.49881378],\n",
       "        [ 0.39880928,  0.43995116, -0.61099505,  0.52352573],\n",
       "        [-0.57956795,  0.58035059,  0.39455433,  0.41427173]]))"
      ]
     },
     "execution_count": 81,
     "metadata": {},
     "output_type": "execute_result"
    }
   ],
   "source": [
    "linalg.eigh(A)"
   ]
  },
  {
   "cell_type": "code",
   "execution_count": 83,
   "metadata": {},
   "outputs": [
    {
     "data": {
      "text/plain": [
       "array([[ 0.30758017, -0.1851312 ,  0.12827988, -0.26822157],\n",
       "       [-0.1851312 ,  0.3483965 , -0.20991254,  0.16618076],\n",
       "       [ 0.12827988, -0.20991254,  0.24781341, -0.15451895],\n",
       "       [-0.26822157,  0.16618076, -0.15451895,  0.41399417]])"
      ]
     },
     "execution_count": 83,
     "metadata": {},
     "output_type": "execute_result"
    }
   ],
   "source": [
    "linalg.inv(A)"
   ]
  },
  {
   "cell_type": "code",
   "execution_count": 84,
   "metadata": {},
   "outputs": [
    {
     "data": {
      "text/plain": [
       "19.4164878389476"
      ]
     },
     "execution_count": 84,
     "metadata": {},
     "output_type": "execute_result"
    }
   ],
   "source": [
    "linalg.norm(A)"
   ]
  },
  {
   "cell_type": "code",
   "execution_count": null,
   "metadata": {},
   "outputs": [],
   "source": []
  }
 ],
 "metadata": {
  "kernelspec": {
   "display_name": "Python 3",
   "language": "python",
   "name": "python3"
  },
  "language_info": {
   "codemirror_mode": {
    "name": "ipython",
    "version": 3
   },
   "file_extension": ".py",
   "mimetype": "text/x-python",
   "name": "python",
   "nbconvert_exporter": "python",
   "pygments_lexer": "ipython3",
   "version": "3.7.4"
  }
 },
 "nbformat": 4,
 "nbformat_minor": 4
}
